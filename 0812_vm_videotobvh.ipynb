{
  "cells": [
    {
      "cell_type": "markdown",
      "metadata": {
        "id": "view-in-github",
        "colab_type": "text"
      },
      "source": [
        "<a href=\"https://colab.research.google.com/github/nieve20/tibame2DtoBVH/blob/main/0812_vm_videotobvh.ipynb\" target=\"_parent\"><img src=\"https://colab.research.google.com/assets/colab-badge.svg\" alt=\"Open In Colab\"/></a>"
      ]
    },
    {
      "cell_type": "markdown",
      "source": [
        "##Install keras_Realtime_Multi-Person_Pose_Estimation(2D)"
      ],
      "metadata": {
        "id": "gUNP4qAs0kxF"
      }
    },
    {
      "cell_type": "code",
      "source": [
        "# 安裝2D虛擬環境\n",
        "!wget https://repo.anaconda.com/miniconda/Miniconda3-latest-Linux-x86_64.sh\n",
        "!bash Miniconda3-latest-Linux-x86_64.sh\n",
        "# 跑完重新啟動shell\n",
        "!conda update -n base -c defaults conda\n",
        "!conda create --name 2d_pose_env python=3.8.13\n",
        "!conda activate 2d_pose_env"
      ],
      "metadata": {
        "id": "04klZUY-x4lT"
      },
      "execution_count": null,
      "outputs": []
    },
    {
      "cell_type": "code",
      "source": [
        "!git clone https://github.com/mxmx1116/keras_Realtime_Multi-Person_Pose_Estimation.git\n",
        "!conda install configobj\n",
        "!conda install ffmpeg"
      ],
      "metadata": {
        "id": "CAfqJyqyzP5p"
      },
      "execution_count": null,
      "outputs": []
    },
    {
      "cell_type": "code",
      "source": [
        "!cd keras_Realtime_Multi-Person_Pose_Estimation\n",
        "!bash model/get_keras_model.sh\n",
        "!mkdir sample_jsons\n",
        "!mkdir sample_videos\n",
        "!mkdir sample_images"
      ],
      "metadata": {
        "id": "HDu2cN2KzUdj"
      },
      "execution_count": null,
      "outputs": []
    },
    {
      "cell_type": "code",
      "source": [
        "!conda install -c conda-forge keras tensorflow scipy\n",
        "!conda install opencv matplotlib numpy ipython\n",
        "!sudo apt-get install libgl1-mesa-glx"
      ],
      "metadata": {
        "id": "8L56TBMZ2jDy"
      },
      "execution_count": null,
      "outputs": []
    },
    {
      "cell_type": "code",
      "source": [
        "python\n",
        "exec(open('model_load.py').read())\n",
        "ctrl + D"
      ],
      "metadata": {
        "id": "q5M3JLCnzUe1"
      },
      "execution_count": null,
      "outputs": []
    },
    {
      "cell_type": "markdown",
      "source": [
        "##Process the video\n",
        "####24 in video_to_images.sh stands for desired fps rate at which you want to convert video to images\n",
        "\n",
        "####三秒影片從12:40跑到02:39"
      ],
      "metadata": {
        "id": "7jexukSj03v_"
      }
    },
    {
      "cell_type": "code",
      "source": [
        "#convert to images, specify fps rate\n",
        "!bash video_to_images.sh 24\n",
        "\n",
        "#2d pose estimation. For each image creates corresponding .json file with format\n",
        "#similar to output .json format of openpose (https://github.com/CMU-Perceptual-Computing-Lab/openpose)\n",
        "python\n",
        "exec(open('2d_pose_estimation.py').read())"
      ],
      "metadata": {
        "id": "D8mpZofbzUuF"
      },
      "execution_count": null,
      "outputs": []
    },
    {
      "cell_type": "markdown",
      "source": [
        "## install AD"
      ],
      "metadata": {
        "id": "YOj-YU56C957"
      }
    },
    {
      "cell_type": "code",
      "source": [
        "!conda deactivate\n",
        "# 確保當前位置，回到根目錄\n",
        "conda create --name animated_drawings python=3.8.13\n",
        "conda activate animated_drawings\n",
        "\n",
        "git clone https://github.com/mxmx1116/tibame/tree/8a69a4df5575d87fcc42bc3d433c17fcd3fa663b/Animated_Drawings\n",
        "cd AnimatedDrawings\n",
        "!conda install -c conda-forge jax\n",
        "!conda install -c conda-forge libclang\n",
        "pip install -e ."
      ],
      "metadata": {
        "id": "ceX-qhwTC73E"
      },
      "execution_count": null,
      "outputs": []
    },
    {
      "cell_type": "code",
      "source": [
        "sudo apt-get update\n",
        "sudo apt-get install apt-transport-https ca-certificates curl software-properties-common\n",
        "curl -fsSL https://download.docker.com/linux/ubuntu/gpg | sudo apt-key add -\n",
        "sudo add-apt-repository \"deb [arch=amd64] https://download.docker.com/linux/ubuntu $(lsb_release -cs) stable\"\n",
        "sudo apt-get update\n",
        "sudo apt-get install docker-ce\n",
        "sudo systemctl start docker\n",
        "sudo systemctl enable docker\n",
        "sudo docker --version\n",
        "--------------------------以上是安裝docker-----------------------\n",
        "cd torchserve\n",
        "nano Dockerfile\n",
        "sudo docker build -t docker_torchserve .\n",
        "sudo docker run -d --name docker_torchserve -p 8080:8080 -p 8081:8081 docker_torchserve\n",
        "\n",
        "# 等10秒\n",
        "sudo curl http://localhost:8080/ping\n",
        "\n",
        "cd ../examples\n",
        "python image_to_animation.py drawings/garlic.png garlic_out"
      ],
      "metadata": {
        "id": "fFt-HXGpDTse"
      },
      "execution_count": null,
      "outputs": []
    },
    {
      "cell_type": "markdown",
      "metadata": {
        "id": "qPLGsncoiLXT"
      },
      "source": [
        "## 建立3D虛擬環境"
      ]
    },
    {
      "cell_type": "code",
      "source": [
        "# 退出2D虛擬環境\n",
        "!conda deactivate\n",
        "# 確保當前位置，回到根目錄\n",
        "!cd .."
      ],
      "metadata": {
        "id": "NIAp-L3q2jwF"
      },
      "execution_count": null,
      "outputs": []
    },
    {
      "cell_type": "code",
      "source": [
        "!conda create --name 3d_pose_env python=2.7\n",
        "!conda activate 3d_pose_env"
      ],
      "metadata": {
        "id": "SulLqp-t2juu"
      },
      "execution_count": null,
      "outputs": []
    },
    {
      "cell_type": "markdown",
      "source": [
        "##Install HMR(3D)"
      ],
      "metadata": {
        "id": "7zWv9PiGhx6p"
      }
    },
    {
      "cell_type": "code",
      "execution_count": null,
      "metadata": {
        "id": "buNbARrUkAdd"
      },
      "outputs": [],
      "source": [
        "!git clone https://github.com/mxmx1116/tibame/tree/8a69a4df5575d87fcc42bc3d433c17fcd3fa663b/hmr\n",
        "!wget https://people.eecs.berkeley.edu/~kanazawa/cachedir/hmr/models.tar.gz && tar -xf models.tar.gz\n",
        "!mv models hmr/\n",
        "\n",
        "# 這裡裝opendr會失敗，沒關係等等會再裝\n",
        "!pip install --upgrade pip\n",
        "!pip install -r hmr/requirements.txt\n",
        "\n",
        "# 安裝blender\n",
        "!sudo apt-get update\n",
        "!sudo apt install llvm-6.0\n",
        "!sudo apt install blender\n",
        "\n",
        "# 新增輸出資料夾\n",
        "!mkdir hmr/output\n",
        "!mkdir hmr/output/csv\n",
        "!mkdir hmr/output/images\n",
        "!mkdir hmr/output/csv_joined\n",
        "!mkdir hmr/output/bvh_animation"
      ]
    },
    {
      "cell_type": "code",
      "execution_count": null,
      "metadata": {
        "id": "wsM0tlO8sctM"
      },
      "outputs": [],
      "source": [
        "!pip install --upgrade setuptools wheel\n",
        "!sudo add-apt-repository -y ppa:ubuntu-toolchain-r/test\n",
        "!pip install absl-py\n",
        "!pip install numpy\n",
        "!pip install scikit-image\n",
        "!pip install tensorflow==1.5.0\n",
        "!pip install pandas\n",
        "!pip install opencv-python==4.2.0.32\n",
        "!pip install scipy\n",
        "!pip install matplotlib\n",
        "!pip install ipykernel"
      ]
    },
    {
      "cell_type": "code",
      "source": [
        "# 請參考此篇的手動安裝https://blog.csdn.net/qq_40520596/article/details/110955392\n",
        "!git clone https://github.com/mattloper/opendr.git\n",
        "# 並下載http://files.is.tue.mpg.de/mloper/opendr/osmesa/OSMesa.Linux.x86_64.zip 將他放到指定位置中\n",
        "# 移動安裝包\n",
        "!mv /home/bvhad/opendr/ /home/bvhad/miniconda3/envs/3d_pose_env/lib/python2.7/site-packages/\n",
        "!cd /home/bvhad/miniconda3/envs/3d_pose_env/lib/python2.7/site-packages/opendr/"
      ],
      "metadata": {
        "id": "PVWUqTXSTO2p"
      },
      "execution_count": null,
      "outputs": []
    },
    {
      "cell_type": "code",
      "source": [
        "python\n",
        "import sys\n",
        "sys.path.append('/usr/local/envs/videotobvh/lib/python2.7/site-packages')\n",
        "\n",
        "\n",
        "# 如果執行這行時少了ctx_mesa.c，請到這邊下載https://drive.google.com/file/d/1e_l4-_sdkp5kT_SGNcQnZacJwTrB4jct/view?usp=drive_link 並放入他正在尋找的位置\n",
        "!sudo $(which python2.7) setup.py build\n",
        "!sudo $(which python2.7) setup.py install\n",
        "\n",
        "# 執行時找不到_constants.py時執行這行\n",
        "!export PYTHONPATH=$PYTHONPATH:/home/bvhad/miniconda3/envs/3d_pose_env/lib/python2.7/site-packages/opendr/opendr/contexts/"
      ],
      "metadata": {
        "id": "WdTsYoVqfDZd"
      },
      "execution_count": null,
      "outputs": []
    },
    {
      "cell_type": "code",
      "source": [
        "# 如果上面執行還是有依賴項問題，再執行這格\n",
        "!sudo apt-get install libfreetype6-dev git build-essential cmake python2.7-dev wget libopenblas-dev libsndfile1 libboost-dev libeigen3-dev\n",
        "!export DISABLE_BCOLZ_AVX2=true\n",
        "!pip install wheel\n",
        "!pip install torch\n",
        "# 這個可能會裝失敗\n",
        "# !pip install opendr-toolkit-engine\n",
        "!pip install ConfigParser\n",
        "\n",
        "!sudo apt-get install libstdc++6\n",
        "!sudo apt-get install libglu1-mesa-dev freeglut3-dev mesa-common-dev\n",
        "!sudo apt-get install libosmesa6-dev\n",
        "!conda install -c conda-forge gcc\n",
        "!conda install gxx_linux-64\n",
        "!export LD_LIBRARY_PATH=/home/bvhad/miniconda3/envs/3d_pose_env/bin/gcc:$LD_LIBRARY_PATH\n",
        "!export LD_LIBRARY_PATH=/usr/lib/x86_64-linux-gnu/:$LD_LIBRARY_PATH\n",
        "!echo $LD_LIBRARY_PATH"
      ],
      "metadata": {
        "id": "Q2Snh1UlyM6I"
      },
      "execution_count": null,
      "outputs": []
    },
    {
      "cell_type": "markdown",
      "source": [
        "##Process 3D .csv & .bvh\n",
        "####一幀轉換一分鐘"
      ],
      "metadata": {
        "id": "KvAHtoyjafFp"
      }
    },
    {
      "cell_type": "code",
      "source": [
        "# 先按照https://www.notion.so/7e5a45937e9349559f9eb6bf0fae6083 改相關文件再執行\n",
        "# 回到根目錄\n",
        "!cd ~\n",
        "!bash /home/bvhad/hmr/3dpose_estimate.sh"
      ],
      "metadata": {
        "id": "qxKetU2ZPgvx"
      },
      "execution_count": null,
      "outputs": []
    },
    {
      "cell_type": "code",
      "source": [
        "#convert estimated .csv files to bvh\n",
        "!blender --background hmr/csv_to_bvh.blend -noaudio -P hmr/csv_to_bvh.py"
      ],
      "metadata": {
        "id": "qZQEtFgR64os"
      },
      "execution_count": null,
      "outputs": []
    },
    {
      "cell_type": "markdown",
      "source": [
        "####Based on:\n",
        "\n",
        "\n",
        "1.   **End-to-end Recovery of Human Shape and Pose** by *Angjoo Kanazawa, Michael J. Black, David W. Jacobs, Jitendra Malik *\n",
        "https://github.com/akanazawa/hmr  \n",
        "\n",
        "  Corresponding fork by *Denis Cera*: https://github.com/Dene33/hmr\n",
        "\n",
        "2.   **Realtime Multi-Person 2D Pose Estimation using Part Affinity Fields** by *Zhe Cao, Tomas Simon, Shih-En Wei, Yaser Sheikh* \\\n",
        "Keras implementation by *Michal Faber*: https://github.com/michalfaber/keras_Realtime_Multi-Person_Pose_Estimation\n",
        "\n",
        "  Corresponding fork by *Denis Cera*: https://github.com/Dene33/keras_Realtime_Multi-Person_Pose_Estimation\n"
      ],
      "metadata": {
        "id": "_ijp24hydi4o"
      }
    }
  ],
  "metadata": {
    "colab": {
      "provenance": [],
      "machine_shape": "hm",
      "gpuType": "T4",
      "collapsed_sections": [
        "qPLGsncoiLXT"
      ],
      "include_colab_link": true
    },
    "kernelspec": {
      "display_name": "Python 3",
      "name": "python3"
    },
    "language_info": {
      "name": "python"
    },
    "accelerator": "GPU"
  },
  "nbformat": 4,
  "nbformat_minor": 0
}